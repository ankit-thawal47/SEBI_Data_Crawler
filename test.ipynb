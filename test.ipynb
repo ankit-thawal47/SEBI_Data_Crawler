{
 "cells": [
  {
   "cell_type": "code",
   "execution_count": 3,
   "metadata": {},
   "outputs": [
    {
     "name": "stdout",
     "output_type": "stream",
     "text": [
      "<html><ul id='st-navbar-desktop-menu-nav' class='mobile-sub wsmenu-list sf-menu'><li><a id='menu1' href='https://www.sebi.gov.in/about.html'>ABOUT</a><ul class='wsmenu-submenu'><li><a href='https://www.sebi.gov.in/about-sebi.html'><i class='fa fa-angle-right'></i>About SEBI </a><ul class='wsmenu-submenu-sub sub_child2'><li><a href='/sebiweb/boardmember/BoardMemberAction.do?doBoardMember=yes'>The Board</a></li><li><a href='https://www.sebi.gov.in/conf.html'>Code on Conflict of Interests for Members of Board</a></li><li><a href='/sebiweb/about/AboutAction.do?doBoardMeeting=yes'>Board Meetings</a></li><li><a href='https://www.sebi.gov.in/powers-and-functions.html'>Powers and Functions of the Board</a></li><li><a href='http://sat.gov.in/scripts/showdailyboard.asp' target='_blank'>Securities Appellate Tribunal (SAT)</a></li><li><a href='https://www.sebi.gov.in/orgchart.html'>Organisation Structure</a></li><li><a href='https://www.sebi.gov.in/alldepartment.html'>Functions of Departments / Divisions</a></li><li><a href='https://www.sebi.gov.in/contact-us.html#contact-us-main'>Addresses of Offices of SEBI</a></li><li><a href='/sebiweb/about/AboutAction.do?doCommittee=yes'>SEBI Committees</a></li><li><a href='https://www.sebi.gov.in/allbenchmark.html'>SEBI Benchmarks</a></li><li><a href='/sebiweb/boardmember/BoardMemberAction.do?doFormerMember=yes'>Former Chairmen / WTMs of SEBI</a></li><li><a href='https://www.sebi.gov.in/equal_opportunity_policy.html'>Equal Opportunity Policy for PwDs</a></li><li><a href='/sebiweb/holiday/HolidayAction.do?doHoliday=yes'>Public Holidays</a></li></ul></li><li><a href='https://www.sebi.gov.in/rti-act-2005.html'>RTI Act, 2005 </a></li><li><a href='https://www.sebi.gov.in/sebiweb/about/AboutAction.do?doVacancies=yes'></i>Careers</a></li><li><a href='/sebiweb/about/AboutAction.do?doTender=yes'>Tenders</a></li><li><a href='https://www.ncfe.org.in/'>NCFE</a></li><li><a href='https://www.innovation-sandbox.in/'>Innovation Sandbox</a></li><li><a href='/sebiweb/home/directory-of-sebi.jsp'>Directory of SEBI Employees</a></li></ul></li><li><a id='menu2' href='https://www.sebi.gov.in/legal.html'>LEGAL</a><ul class='wsmenu-submenu'><li><a href='/sebiweb/home/HomeAction.do?doListing=yes&sid=1&ssid=1&smid=0'>Acts</a></li><li><a href='/sebiweb/home/HomeAction.do?doListing=yes&sid=1&ssid=2&smid=0'>Rules</a></li><li><a href='/sebiweb/home/HomeAction.do?doListing=yes&sid=1&ssid=3&smid=0'>Regulations</a></li><li><a href='/sebiweb/home/HomeAction.do?doListing=yes&sid=1&ssid=4&smid=0'>General Orders</a></li><li><a href='/sebiweb/home/HomeAction.do?doListing=yes&sid=1&ssid=5&smid=0'>Guidelines</a></li><li><a href='/sebiweb/home/HomeAction.do?doListing=yes&sid=1&ssid=6&smid=0'>Master Circulars</a></li><li><a href='/sebiweb/home/HomeAction.do?doListing=yes&sid=1&ssid=7&smid=0'>Circulars</a></li><li><a href='/sebiweb/home/HomeAction.do?doListing=yes&sid=1&ssid=82&smid=0'>Gazette Notification</a></li><li><a href='https://www.sebi.gov.in/sebiweb/other/OtherAction.do?doLegalIntership2022=yes'>Online portal for submission of application for Internship (Legal)</a></li><li><a href='/sebiweb/home/HomeAction.do?doListing=yes&sid=1&ssid=85&smid=0'>Guidance Notes</a></li></ul></li><li><a id='menu3' href='https://www.sebi.gov.in/enforcement.html'>ENFORCEMENT</a><ul class='wsmenu-submenu'><li><a href='https://www.sebi.gov.in/enforcement/orders.html'><i class='fa fa-angle-right'></i>Orders</a><ul class='wsmenu-submenu-sub sub_child2'><li><a href='/sebiweb/home/HomeAction.do?doListing=yes&sid=2&ssid=9&smid=1'>Orders of SAT</a></li><li><a href='/sebiweb/home/HomeAction.do?doListing=yes&sid=2&ssid=9&smid=2'>Orders of Chairperson/Members</a></li><li><a href='/sebiweb/home/HomeAction.do?doListing=yes&sid=2&ssid=9&smid=3'>Settlement Order</a></li><li><a href='/sebiweb/home/HomeAction.do?doListing=yes&sid=2&ssid=9&smid=4'>Orders of AA under the RTI Act</a></li><li><a href='/sebiweb/home/HomeAction.do?doListing=yes&sid=2&ssid=9&smid=5'>Orders of Corporatisation / Demutualisation Scheme</a></li><li><a href='/sebiweb/home/HomeAction.do?doListing=yes&sid=2&ssid=9&smid=6'>Orders of AO</a></li><li><a href='/sebiweb/home/HomeAction.do?doListing=yes&sid=2&ssid=9&smid=7'>Orders of Courts</a></li><li><a href='/sebiweb/home/HomeAction.do?doListing=yes&sid=2&ssid=9&smid=77'>Orders Of Special Courts</a></li><li><a href='/sebiweb/home/HomeAction.do?doListing=yes&sid=2&ssid=9&smid=133'>Orders of ED / CGM (Quasi-Judicial Authorities)</a></li></ul></li><li><a href='/sebiweb/home/HomeAction.do?doListing=yes&sid=2&ssid=10&smid=0'>Informal Guidance</a></li><li><a href='/sebiweb/home/HomeAction.do?doListing=yes&sid=2&ssid=11&smid=0'>Clarifications on Insider Trading</a></li><li><a href='/sebiweb/home/HomeAction.do?doListing=yes&sid=2&ssid=12&smid=0'>Orders That Could Not be Served</a></li><li><a href='/sebiweb/home/HomeAction.do?doListing=yes&sid=2&ssid=13&smid=0'>Unserved Summons / Notices</a></li><li><a href='/sebiweb/home/HomeAction.do?doListing=yes&sid=2&ssid=50&smid=0'>Recovery Proceedings</a></li><li><a href='/sebiweb/home/HomeAction.do?doListing=yes&sid=2&ssid=79&smid=0'>Auction Notice under Recovery Proceedings</a></li></ul></li><li><a id='menu4' href='https://www.sebi.gov.in/filings.html'>FILINGS</a><ul class='wsmenu-submenu'><li><a href='https://www.sebi.gov.in/filings/processing-status.html'><i class='fa fa-angle-right'></i>Processing Status</a><ul class='wsmenu-submenu-sub sub_child2'><li><a href='/sebiweb/home/HomeAction.do?doListing=yes&sid=3&ssid=14&smid=8'>Issues</a></li><li><a href='/sebiweb/home/HomeAction.do?doListing=yes&sid=3&ssid=14&smid=9'>Takeovers</a></li><li><a href='/sebiweb/home/HomeAction.do?doListing=yes&sid=3&ssid=14&smid=62'>Scheme of Arrangement</a></li><li><a href='/sebiweb/home/HomeAction.do?doListing=yes&sid=3&ssid=14&smid=116'>Buybacks</a></li><li><a href='https://www.sebi.gov.in/sebiweb/other/RegulatorySandbox.jsp' target='_blank'>Regulatory Sandbox</a></li></ul></li><li><a href='https://www.sebi.gov.in/filings/public-issues.html'><i class='fa fa-angle-right'></i>Public Issues</a><ul class='wsmenu-submenu-sub sub_child2'><li><a href='/sebiweb/home/HomeAction.do?doListing=yes&sid=3&ssid=15&smid=10'>Draft Offer Documents filed with SEBI</a></li><li><a href='/sebiweb/home/HomeAction.do?doListing=yes&sid=3&ssid=15&smid=11'>Red Herring Documents filed with ROC</a></li><li><a href='/sebiweb/home/HomeAction.do?doListing=yes&sid=3&ssid=15&smid=12'>Final Offer Documents filed with ROC</a></li><li><a href='/sebiweb/home/HomeAction.do?doListing=yes&sid=3&ssid=15&smid=78'>Other Documents</a></li></ul></li><li><a href='https://www.sebi.gov.in/filings/rights-issues.html'><i class='fa fa-angle-right'></i>Rights Issues</a><ul class='wsmenu-submenu-sub sub_child2'><li><a href='/sebiweb/home/HomeAction.do?doListing=yes&sid=3&ssid=16&smid=13'>Draft Letters of Offer filed with SEBI</a></li><li><a href='/sebiweb/home/HomeAction.do?doListing=yes&sid=3&ssid=16&smid=14'>Final Letters of Offer filed with Stock Exchanges</a></li><li><a href='/sebiweb/home/HomeAction.do?doListing=yes&sid=3&ssid=16&smid=79'>Other Documents</a></li></ul></li><li><a href='https://www.sebi.gov.in/filings/debt-offer-document.html'><i class='fa fa-angle-right'></i>Debt Offer Document</a><ul class='wsmenu-submenu-sub sub_child2'><li><a href='/sebiweb/home/HomeAction.do?doListing=yes&sid=3&ssid=17&smid=38'>Draft filed with SE</a></li><li><a href='/sebiweb/home/HomeAction.do?doListing=yes&sid=3&ssid=17&smid=39'>Final filed with ROC</a></li></ul></li><li><a href='https://www.sebi.gov.in/filings/takeovers.html'><i class='fa fa-angle-right'></i>Takeovers</a><ul class='wsmenu-submenu-sub sub_child2'><li><a href='/sebiweb/home/HomeAction.do?doListing=yes&sid=3&ssid=20&smid=15'>Letter of Offer</a></li><li><a href='/sebiweb/home/HomeAction.do?doListing=yes&sid=3&ssid=20&smid=50'>Formats as per SEBI (SAST) Regulations 2011</a></li><li><a href='/sebiweb/home/HomeAction.do?doListing=yes&sid=3&ssid=20&smid=49'>Other Documents</a></li></ul></li><li><a href='https://www.sebi.gov.in/filings/mutual-funds.html'><i class='fa fa-angle-right'></i>Mutual Funds</a><ul class='wsmenu-submenu-sub sub_child2'><li><a href='/sebiweb/home/HomeAction.do?doListing=yes&sid=3&ssid=39&smid=37'>Draft</a></li><li><a href='/sebiweb/other/OtherAction.do?doMutualFund=yes&mftype=1'>Statement of Additional Information (SAI)</a></li><li><a href='/sebiweb/other/OtherAction.do?doMutualFund=yes&mftype=2'>Scheme Information Document (SID)</a></li><li><a href='/sebiweb/other/OtherAction.do?doMutualFund=yes&mftype=3'>Key Information Memorandum (KIM)</a></li></ul></li><li><a href='https://www.sebi.gov.in/filings/buybacks.html'><i class='fa fa-angle-right'></i>Buybacks</a><ul class='wsmenu-submenu-sub sub_child2'><li><a href='/sebiweb/home/HomeAction.do?doListing=yes&sid=3&ssid=22&smid=17'>Tender Offers</a></li><li><a href='/sebiweb/home/HomeAction.do?doListing=yes&sid=3&ssid=22&smid=18'>Open Market Through Stock Exchanges</a></li></ul></li><li><a href='https://www.sebi.gov.in/filings/invit-public-issues.html'><i class='fa fa-angle-right'></i>InvIT Public Issues</a><ul class='wsmenu-submenu-sub sub_child2'><li><a href='/sebiweb/home/HomeAction.do?doListing=yes&sid=3&ssid=55&smid=66'>Draft offer documents filed with SEBI</a></li><li><a href='/sebiweb/home/HomeAction.do?doListing=yes&sid=3&ssid=55&smid=73'>Offer documents filed with SEBI</a></li><li><a href='/sebiweb/home/HomeAction.do?doListing=yes&sid=3&ssid=55&smid=74'>Final Offer documents filed with SEBI</a></li></ul></li><li><a href='https://www.sebi.gov.in/filings/invit-private-issues.html'><i class='fa fa-angle-right'></i>InvIT Private Issues</a><ul class='wsmenu-submenu-sub sub_child2'><li><a href='/sebiweb/home/HomeAction.do?doListing=yes&sid=3&ssid=73&smid=75'>Placement Memorandum filed with SEBI</a></li><li><a href='/sebiweb/home/HomeAction.do?doListing=yes&sid=3&ssid=73&smid=76'>Final Placement Memorandum filed with SEBI</a></li><li><a href='/sebiweb/home/HomeAction.do?doListing=yes&sid=3&ssid=73&smid=121'>Draft Placement Memorandum filed with SEBI</a></li></ul></li><li><a href='https://www.sebi.gov.in/filings/invit-rights-issues.html'><i class='fa fa-angle-right'></i>InvIT Rights Issues</a><ul class='wsmenu-submenu-sub sub_child2'><li><a href='/sebiweb/home/HomeAction.do?doListing=yes&sid=3&ssid=89&smid=127'>Draft Letters of Offer</a></li><li><a href='/sebiweb/home/HomeAction.do?doListing=yes&sid=3&ssid=89&smid=124'>Final Letters of Offer</a></li></ul></li><li><a href='https://www.sebi.gov.in/filings/reit-issues.html'><i class='fa fa-angle-right'></i>REIT Issues</a><ul class='wsmenu-submenu-sub sub_child2'><li><a href='/sebiweb/home/HomeAction.do?doListing=yes&sid=3&ssid=74&smid=82'>Offer Document filed with SEBI</a></li><li><a href='/sebiweb/home/HomeAction.do?doListing=yes&sid=3&ssid=74&smid=80'>Draft Offer Document filed with SEBI</a></li><li><a href='/sebiweb/home/HomeAction.do?doListing=yes&sid=3&ssid=74&smid=83'>Final Offer Document filed with SEBI</a></li></ul></li><li><a href='https://www.sebi.gov.in/filings/municipal-debt-securities-public-issues.html'><i class='fa fa-angle-right'></i>Municipal Debt Securities Public Issues</a><ul class='wsmenu-submenu-sub sub_child2'><li><a href='/sebiweb/home/HomeAction.do?doListing=yes&sid=3&ssid=87&smid=117'>Draft Offer Document filed with SEBI</a></li><li><a href='/sebiweb/home/HomeAction.do?doListing=yes&sid=3&ssid=87&smid=118'>Offer Document filed with SEBI</a></li></ul></li><li><a href='https://www.sebi.gov.in/filings/municipal-debt-securities-privately-issues.html'><i class='fa fa-angle-right'></i>Municipal Debt Securities Privately Issues</a><ul class='wsmenu-submenu-sub sub_child2'><li><a href='/sebiweb/home/HomeAction.do?doListing=yes&sid=3&ssid=88&smid=119'>Preliminary Placement Memorandum filed with SEBI</a></li><li><a href='/sebiweb/home/HomeAction.do?doListing=yes&sid=3&ssid=88&smid=120'>Placement Memorandum filed with SEBI</a></li></ul></li></ul></li><li><a id='menu5' href='https://www.sebi.gov.in/reports-and-statistics.html'>REPORTS & STATISTICS</a><ul class='wsmenu-submenu'><li><a href='https://www.sebi.gov.in/reports-and-statistics/research.html'><i class='fa fa-angle-right'></i>Research</a><ul class='wsmenu-submenu-sub sub_child2'><li><a href='/sebiweb/home/HomeAction.do?doListing=yes&sid=4&ssid=81&smid=104'>Working Papers</a></li><li><a href='/sebiweb/home/HomeAction.do?doListing=yes&sid=4&ssid=81&smid=103'>Investor Survey</a></li><li><a href='/sebiweb/home/HomeAction.do?doListing=yes&sid=4&ssid=81&smid=106'>SEBI DRG Studies</a></li><li><a href='/sebiweb/home/HomeAction.do?doListing=yes&sid=4&ssid=81&smid=109'>Research Papers/articles</a></li></ul></li><li><a href='https://www.sebi.gov.in/reports-and-statistics/publications.html'><i class='fa fa-angle-right'></i>Publications</a><ul class='wsmenu-submenu-sub sub_child2'><li><a href='/sebiweb/home/HomeAction.do?doListing=yes&sid=4&ssid=80&smid=101'>Annual Reports</a></li><li><a href='/sebiweb/home/HomeAction.do?doListing=yes&sid=4&ssid=80&smid=102'>Annual Statistics</a></li><li><a href='/sebiweb/home/HomeAction.do?doListing=yes&sid=4&ssid=80&smid=105'>Handbook of Statistics</a></li><li><a href='/sebiweb/home/HomeAction.do?doListing=yes&sid=4&ssid=80&smid=107'>Monthly SEBI Bulletin</a></li><li><a href='/sebiweb/home/HomeAction.do?doListing=yes&sid=4&ssid=80&smid=113'>Books published under SEBI's Moulik Hindi Pustak Lekhan Yojana</a></li><li><a href='/sebiweb/home/HomeAction.do?doListing=yes&sid=4&ssid=80&smid=130'>Hindi Magazines</a></li><li><a href='/sebiweb/home/HomeAction.do?doListing=yes&sid=4&ssid=80&smid=134'>Monthly Dashboard</a></li></ul></li><li><a href='https://www.sebi.gov.in/reports-and-statistics/statistics.html'><i class='fa fa-angle-right'></i>Statistics</a><ul class='wsmenu-submenu-sub sub_child2'><li><a href='https://www.sebi.gov.in/Guidelines_for_Data_Sharing.html' target='_blank'>Guidelines for seeking data</a></li><li><a href='https://www.sebi.gov.in/Curation_Links_for_Securities_Market_Data.html' target='_blank'>Curation Links for Securities Market Data</a></li><li><a href='https://www.sebi.gov.in/statistics/fpi-investment.html' target='_blank'>Foreign Portfolio Investors Investments</a></li><li><a href='https://www.sebi.gov.in/statistics/1392982252002.html' target='_blank'>Alternative Investment Funds (AIFs)</a></li><li><a href='https://www.sebi.gov.in/statistics/corporate-bonds.html' target='_blank'>Corporate Bonds</a></li><li><a href='https://www.sebi.gov.in/statistics/investment-details-VCF-FVCI.html' target='_blank'>Investment Details of VCF/FVCI</a></li><li><a href='https://www.sebi.gov.in/statistics/assets-managed.html' target='_blank'>Assets Managed by Portfolio Managers</a></li><li><a href='https://www.sebi.gov.in/sebiweb/other/mutualfunds.jsp' target='_blank'>Mutual Funds Investments</a></li><li><a href='https://www.sebi.gov.in/edifar/edifar.html' target='_blank'>Corporate Filing / EDIFAR</a></li><li><a href='https://www.sebi.gov.in/sebiweb/other/OtherAction.do?doPmr=yes' target='_blank'>Monthly Report of Portfolio Manager</a></li><li><a href='https://www.sebi.gov.in/statistics/open-offers.html' target='_blank'>Open Offers</a></li><li><a href='https://www.sebi.gov.in/statistics/reits-invits.html' target='_blank'>REITS and InvITs</a></li><li><a href='https://www.sebi.gov.in/statistics/greenbonds.html' target='_blank'>Green Debt Securities</a></li><li><a href='https://www.sebi.gov.in/statistics/municipalbonds.html' target='_blank'>Municipal Debt Securities</a></li></ul></li><li><a href='https://www.sebi.gov.in/reports-and-statistics/reports.html'><i class='fa fa-angle-right'></i>Reports</a><ul class='wsmenu-submenu-sub sub_child2'><li><a href='/sebiweb/home/HomeAction.do?doListing=yes&sid=4&ssid=38&smid=35'>Reports for Public Comments</a></li><li><a href='/sebiweb/home/HomeAction.do?doListing=yes&sid=4&ssid=38&smid=36'>Committee Reports</a></li><li><a href='https://www.sebi.gov.in/National_Strategy_for_Financial_Inclusion.html' target='_blank'>National Strategy for Financial Inclusion (NSFI) : 2019-24</a></li><li><a href='/sebiweb/home/HomeAction.do?doListing=yes&sid=4&ssid=38&smid=115'>Reports for Reference</a></li></ul></li><li><a href='/sebiweb/home/HomeAction.do?doListing=yes&sid=4&ssid=26&smid=0'>Public Interest Disclosure</a></li><li><a href='/sebiweb/home/HomeAction.do?doListing=yes&sid=4&ssid=76&smid=0'>Internship</a></li><li><a href='/sebiweb/home/HomeAction.do?doListing=yes&sid=4&ssid=51&smid=0'>Information to public on complaints</a></li><li><a href='/sebiweb/home/HomeAction.do?doListing=yes&sid=4&ssid=70&smid=0'>Annual Accounts</a></li><li><a href='/sebiweb/home/HomeAction.do?doListing=yes&sid=4&ssid=53&smid=0'>International Research Conference</a></li><li><a href='/sebiweb/home/HomeAction.do?doListing=yes&sid=4&ssid=71&smid=0'>Notice For Meeting on Schemes</a></li><li><a href='https://www.sebi.gov.in/reports-and-statistics/history-of-indian-securities-market.html'><i class='fa fa-angle-right'></i>History of Indian Securities Market</a><ul class='wsmenu-submenu-sub sub_child2'><li><a href='/sebiweb/home/HomeAction.do?doListing=yes&sid=4&ssid=41&smid=85'>Reports and Notifications</a></li></ul></li><li><a href='/sebiweb/home/HomeAction.do?doListing=yes&sid=4&ssid=31&smid=0'>Glossary</a></li></ul></li><li><a id='menu6' href='https://www.sebi.gov.in/status.html'>STATUS</a><ul class='wsmenu-submenu'><li><a href='/sebiweb/home/cause-list.jsp'>Cause List</a></li><li><a href='/sebiweb/other/OtherAction.do?doIntermediator=yes&type=2'>Processing Application Status</a></li></ul></li><li><a id='menu7' href='https://www.sebi.gov.in/media-and-notifications.html'>MEDIA & NOTIFICATIONS</a><ul class='wsmenu-submenu sub_media'><li><a href='https://www.sebi.gov.in/gallery.html'>Gallery</a></li><li><a href='/sebiweb/home/HomeAction.do?doListing=yes&sid=6&ssid=23&smid=0'>Press Releases</a></li><li><a href='/sebiweb/home/HomeAction.do?doListing=yes&sid=6&ssid=25&smid=0'>Public Notices</a></li><li><a href='/sebiweb/home/HomeAction.do?doListing=yes&sid=6&ssid=27&smid=0'>News Clarifications</a></li><li><a href='/sebiweb/home/HomeAction.do?doListing=yes&sid=6&ssid=28&smid=0'>Speeches</a></li><li><a href='/sebiweb/home/HomeAction.do?doListing=yes&sid=6&ssid=86&smid=0'>UNSC Sanctions Committee List</a></li><li><a href='/sebiweb/home/HomeAction.do?doListing=yes&sid=6&ssid=94&smid=0'>Notifications under Unlawful Activities Prevention Act, 1967</a></li><li><a href='https://www.sebi.gov.in/media-and-notifications/fatf-public-statements.html'><i class='fa fa-angle-right'></i>FATF Public Statements</a><ul class='wsmenu-submenu-sub sub_child2'><li><a href='/sebiweb/home/HomeAction.do?doListing=yes&sid=6&ssid=95&smid=135'>Jurisdictions Subject to Call for Action</a></li><li><a href='/sebiweb/home/HomeAction.do?doListing=yes&sid=6&ssid=95&smid=137'>Jurisdictions Under Increased Monitoring</a></li></ul></li></ul></li></html>\n"
     ]
    }
   ],
   "source": [
    "import requests\n",
    "menus_of_sebi = \"https://www.sebi.gov.in/js/menu.js\"\n",
    "response = requests.get(menus_of_sebi)\n",
    "html_content = response.text\n",
    "\n",
    "html_content = html_content.replace('document.write(\"',\"\")\n",
    "html_content = html_content.replace('\");','')\n",
    "html_content = \"<html>\" + html_content + \"</html>\"\n",
    "\n",
    "\n",
    "print(html_content)\n"
   ]
  },
  {
   "cell_type": "code",
   "execution_count": null,
   "metadata": {},
   "outputs": [],
   "source": [
    "class A:\n",
    "    def __init__(self) -> None:\n",
    "        obj2 = B()\n",
    "        pass\n",
    "    \n",
    "    def method(self):\n",
    "        print(\"a\")\n",
    "        \n",
    "class B:\n",
    "    def __init__(self) -> None:\n",
    "        pass"
   ]
  },
  {
   "cell_type": "code",
   "execution_count": null,
   "metadata": {},
   "outputs": [],
   "source": [
    "class B:\n",
    "    obj = A()"
   ]
  },
  {
   "cell_type": "code",
   "execution_count": 4,
   "metadata": {},
   "outputs": [
    {
     "name": "stdout",
     "output_type": "stream",
     "text": [
      "no\n"
     ]
    }
   ],
   "source": [
    "import os\n",
    "regChat_folder = \"\"\n",
    "extraction_folder_name = \"SEBI_Extracted_Data\"\n",
    "\n",
    "base_folder_path = os.path.join(regChat_folder,extraction_folder_name)\n",
    "\n",
    "if(not os.path.exists(base_folder_path)):\n",
    "    print(\"no\")\n",
    "    os.makedirs(base_folder_path)\n",
    "else:\n",
    "    print(\"yes\")"
   ]
  },
  {
   "cell_type": "code",
   "execution_count": 16,
   "metadata": {},
   "outputs": [],
   "source": [
    "# import PyPDF2\n",
    "\n",
    "# def extract_data_from_pdf(file_path):\n",
    "#     file_path = r\"D:\\Educational\\Sarvam_AI\\Projects\\SEBI_Ankit\\SEBI_Data_Crawler\\temp_files\\1492004818999.pdf\"\n",
    "#     pdf_text = \"\"\n",
    "#     if(not os.path.exists(file_path)):\n",
    "#         print(f\"The {file_path} doesnt exists!\")\n",
    "#         return pdf_text\n",
    "#     pdf_reader = PyPDF2.PdfReader(file_path)\n",
    "\n",
    "#     # Initialize an empty string to store the extracted text\n",
    "#     extracted_text = \"\"\n",
    "\n",
    "#     # Loop through each page in the PDF\n",
    "#     # len(reader.pages)\n",
    "#     for page_num in range(len(pdf_reader.pages)):\n",
    "#         # Extract text from the current page\n",
    "#         page = pdf_reader.pages[page_num] \n",
    "#         # page = pdf_reader.getPage(page_num)\n",
    "#         text = page.extract_text()\n",
    "        \n",
    "#         # Append the extracted text to the result\n",
    "#         extracted_text += text\n",
    "\n",
    "#     return extracted_text"
   ]
  },
  {
   "cell_type": "code",
   "execution_count": 18,
   "metadata": {},
   "outputs": [],
   "source": [
    "# import pytesseract\n",
    "# from pdf2image import convert_from_path\n",
    "# def extract_text_from_image(image_path):\n",
    "#     # Use pytesseract to perform OCR on the image\n",
    "#     file_path = r\"D:\\Educational\\Sarvam_AI\\Projects\\SEBI_Ankit\\SEBI_Data_Crawler\\temp_files\\1492004818999.pdf\"\n",
    "\n",
    "#     return pytesseract.image_to_string(file_path)"
   ]
  },
  {
   "cell_type": "code",
   "execution_count": 20,
   "metadata": {},
   "outputs": [
    {
     "name": "stdout",
     "output_type": "stream",
     "text": [
      "COMPANIES (ISSUE OF GLOBAL DEPOSITORY RECEIPTS) RULES, 2014\n",
      "NOTIFICATION NO. GSR 252(E) [F.NO.1/21/13-CL-V], DATED 31-3-2014\n",
      "In exercise of the powers conferred by section 41 read with 469 of the Companies Act, 2013, the Central\n",
      "Government hereby makes the following rules, namely:—\n",
      "Short title and commencement\n",
      "1. (1) These Rules may be called Companies (Issue of Gobal Depository Receipts) Rules, 2014.\n",
      "(2) They shall come into force on the 1st day of April, 2014.\n",
      "\n",
      "Definitions\n",
      "2. (1) In these Rules, unless the context otherwise requires,—\n",
      "(a) \"Act\" means the Companies Act, 2013 (18 of 2013);\n",
      "\n",
      "(b) \"Section\" means section of the Act;\n",
      "\n",
      "(c) | \"Scheme\" means the Foreign Qurrency Convertible Bonds and Ordinary Shares\n",
      "(Through Depository Receipt Mechanism) Scheme, 1993 or any modification or re-\n",
      "enactment thereof;\n",
      "\n",
      "(2) The Words and expressions used in these rules but not defined and defined in the Act or in the\n",
      "Companies (Specification of definitions details) Rules, 2014 or in the Foreign Qurrency Convertible Bonds\n",
      "and Ordinary Shares (Through Depository Receipt Mechanism) Scheme, 1993 shall have the meanings\n",
      "respectively assigned to them in the Act or in the said rules or scheme.\n",
      "\n",
      "Eligibility to issue depository receipts\n",
      "3. A company may issue depository receipts provided it is eligible to do so in terms of the Scheme and\n",
      "relevant provisions of the Foreign Exchange Management Rules and Regulations.\n",
      "\n",
      "Conditions for issue of depository receipts\n",
      "\n",
      "4. (1) The Board of Directors of the company intending to issue depository receipts shall pass a resolution\n",
      "authorising the company to do so.\n",
      "\n",
      "(2) The company shall take prior approval of its shareholders by a special resolution to be passed at a\n",
      "general meeting:\n",
      "\n",
      "Provided that a special resolution passed under section 62 for issue of shares underlying the depository\n",
      "receipts, shall be deemed to be a special resolution for the purpose of section 41 as well.\n",
      "\n",
      "(3) The depository receipts shall be issued by an overseas depository bank appointed by the company and\n",
      "the underlying shares shall be kept in the custody of a domestic custodian bank.\n",
      "\n",
      "(4) The company shall ensure that all the applicable provisions of the Scheme and the rules or regulations or\n",
      "guidelines issued by the Reserve Bank of India are complied with before and after the issue of depository\n",
      "receipts.\n",
      "(5) The company shall appoint a merchant banker or a practising chartered accountant or a practising cost\n",
      "accountant or a practising company secretary to oversee all the compliances relating to issue of depository\n",
      "receipts and the compliance report taken from such merchant banker or practising chartered accountant or\n",
      "practising cost accountant or practising company secretary, as the case may be, shall be placed at the\n",
      "meeting of the Board of Directors of the company or of the committee of the Board of directors authorised\n",
      "by the Board in this regard to be held immediately after closure of all formalities of the issue of depository\n",
      "receipts:\n",
      "\n",
      "Provided that the committee of the Board of directors referred to above shall have at least one\n",
      "independent director in case the company is required to have independent directors.\n",
      "\n",
      "Manner and form of depository receipts\n",
      "\n",
      "5. (1) The depository receipts can be issued by way of public offering or private placement or in any other\n",
      "manner prevalent abroad and may be listed or traded in an overseas listing or trading platform.\n",
      "\n",
      "(2) The depository receipts may be issued against issue of new shares or may be sponsored against shares\n",
      "held by shareholders of the company in accordance with such conditions as the Central Government or\n",
      "Reserve Bank of India may prescribe or specify from time to time.\n",
      "\n",
      "(3) The underlying shares shall be allotted in the name of the overseas depository bank and against such\n",
      "shares, the depository receipts shall be issued by the overseas depository bank abroad.\n",
      "\n",
      "Voting rights\n",
      "\n",
      "6. (1) Aholder of depository receipts may become a member of the company and shall be entitled to vote as\n",
      "such only on conversion of the depository receipts into underlying shares after following the procedure\n",
      "provided in the Scheme and the provisions of this Act.\n",
      "\n",
      "(2) Until the conversion of depository receipts, the overseas depository shall be entitled to vote on behalf of\n",
      "the holders of depository receipts in accordance with the provisions of the agreement entered into between\n",
      "the depository, holders of depository receipts and the company in this regard.\n",
      "\n",
      "Proceeds of issue\n",
      "\n",
      "7. The proceeds of issues of depository receipts shall either be remitted to a bank account in India or\n",
      "deposited in an Indian bank operating abroad or any foreign bank (which is a Scheduled Bank under the\n",
      "Reserve Bank of India Act, 1934) having operations in India with an agreement that the foreign bank having\n",
      "operations in India shall take responsibility for furnishing all the information which may be required and in\n",
      "the event of a sponsored issue of Depository Receipts, the proceeds of the sale shall be credited to the\n",
      "respective bank account of the shareholders.\n",
      "\n",
      "Depository receipts prior to commencement\n",
      "\n",
      "8. (1) Acompany which has issued depository receipts prior to commencement of these rules shall comply\n",
      "with the requirements under these rules within six months of such commencement.\n",
      "(2) Any issue of depository receipts after six months of commencement of these rules shall be in accordance\n",
      "with the requirements of these rules.\n",
      "\n",
      "Non applicability of certain provisions of the Act\n",
      "\n",
      "9. (1) The provisions of the Act and any rules issued thereunder insofar as they relate to public issue of\n",
      "shares or debentures shall not apply to issue of depository receipts abroad.\n",
      "\n",
      "(2) The offer document, by whatever name called and if prepared for the issue of depository receipts, shall\n",
      "not be treated as a prospectus or an offer document within the meaning of this Act and all the provisions as\n",
      "applicable to a prospectus or an offer document shall not apply to a depository receipts offer document.\n",
      "\n",
      "(3) Notwithstanding anything contained under section 88 of the Act, until the redemption of depository\n",
      "receipts, the name of the overseas depository bank shall be entered in the Register of Members of the\n",
      "company.\n",
      "\n"
     ]
    }
   ],
   "source": [
    "import pytesseract\n",
    "from pdf2image import convert_from_path\n",
    "import os\n",
    "def extract_text_from_pdf(file_path):\n",
    "    # Convert PDF to images\n",
    "    # file_path = r\"D:\\Educational\\Sarvam_AI\\Projects\\SEBI_Ankit\\SEBI_Data_Crawler\\temp_files\\1492004818999.pdf\"\n",
    "\n",
    "    images = convert_from_path(file_path)\n",
    "\n",
    "    # Initialize an empty string to store the extracted text\n",
    "    extracted_text = \"\"\n",
    "\n",
    "    # Perform OCR on each image and append the extracted text\n",
    "    for image in images:\n",
    "        text = pytesseract.image_to_string(image)\n",
    "        extracted_text += text\n",
    "\n",
    "    return extracted_text\n",
    "\n",
    "extracted_text = extract_text_from_pdf(\"\")\n",
    "print(extracted_text)"
   ]
  },
  {
   "cell_type": "code",
   "execution_count": 19,
   "metadata": {},
   "outputs": [
    {
     "ename": "TesseractError",
     "evalue": "(1, 'Error in pixReadStream: Pdf reading is not supported Error in pixRead: pix not read Error during processing.')",
     "output_type": "error",
     "traceback": [
      "\u001b[1;31m---------------------------------------------------------------------------\u001b[0m",
      "\u001b[1;31mTesseractError\u001b[0m                            Traceback (most recent call last)",
      "Cell \u001b[1;32mIn[19], line 1\u001b[0m\n\u001b[1;32m----> 1\u001b[0m extracted_text \u001b[38;5;241m=\u001b[39m \u001b[43mextract_text_from_image\u001b[49m\u001b[43m(\u001b[49m\u001b[38;5;124;43m\"\u001b[39;49m\u001b[38;5;124;43m\"\u001b[39;49m\u001b[43m)\u001b[49m\n\u001b[0;32m      2\u001b[0m \u001b[38;5;28mprint\u001b[39m(extracted_text)\n",
      "Cell \u001b[1;32mIn[18], line 7\u001b[0m, in \u001b[0;36mextract_text_from_image\u001b[1;34m(image_path)\u001b[0m\n\u001b[0;32m      3\u001b[0m \u001b[38;5;28;01mdef\u001b[39;00m \u001b[38;5;21mextract_text_from_image\u001b[39m(image_path):\n\u001b[0;32m      4\u001b[0m     \u001b[38;5;66;03m# Use pytesseract to perform OCR on the image\u001b[39;00m\n\u001b[0;32m      5\u001b[0m     file_path \u001b[38;5;241m=\u001b[39m \u001b[38;5;124mr\u001b[39m\u001b[38;5;124m\"\u001b[39m\u001b[38;5;124mD:\u001b[39m\u001b[38;5;124m\\\u001b[39m\u001b[38;5;124mEducational\u001b[39m\u001b[38;5;124m\\\u001b[39m\u001b[38;5;124mSarvam_AI\u001b[39m\u001b[38;5;124m\\\u001b[39m\u001b[38;5;124mProjects\u001b[39m\u001b[38;5;124m\\\u001b[39m\u001b[38;5;124mSEBI_Ankit\u001b[39m\u001b[38;5;124m\\\u001b[39m\u001b[38;5;124mSEBI_Data_Crawler\u001b[39m\u001b[38;5;124m\\\u001b[39m\u001b[38;5;124mtemp_files\u001b[39m\u001b[38;5;124m\\\u001b[39m\u001b[38;5;124m1492004818999.pdf\u001b[39m\u001b[38;5;124m\"\u001b[39m\n\u001b[1;32m----> 7\u001b[0m     \u001b[38;5;28;01mreturn\u001b[39;00m \u001b[43mpytesseract\u001b[49m\u001b[38;5;241;43m.\u001b[39;49m\u001b[43mimage_to_string\u001b[49m\u001b[43m(\u001b[49m\u001b[43mfile_path\u001b[49m\u001b[43m)\u001b[49m\n",
      "File \u001b[1;32md:\\Educational\\Sarvam_AI\\Projects\\SEBI_Ankit\\SEBI_Data_Crawler\\sebi_env\\lib\\site-packages\\pytesseract\\pytesseract.py:423\u001b[0m, in \u001b[0;36mimage_to_string\u001b[1;34m(image, lang, config, nice, output_type, timeout)\u001b[0m\n\u001b[0;32m    418\u001b[0m \u001b[38;5;250m\u001b[39m\u001b[38;5;124;03m\"\"\"\u001b[39;00m\n\u001b[0;32m    419\u001b[0m \u001b[38;5;124;03mReturns the result of a Tesseract OCR run on the provided image to string\u001b[39;00m\n\u001b[0;32m    420\u001b[0m \u001b[38;5;124;03m\"\"\"\u001b[39;00m\n\u001b[0;32m    421\u001b[0m args \u001b[38;5;241m=\u001b[39m [image, \u001b[38;5;124m'\u001b[39m\u001b[38;5;124mtxt\u001b[39m\u001b[38;5;124m'\u001b[39m, lang, config, nice, timeout]\n\u001b[1;32m--> 423\u001b[0m \u001b[38;5;28;01mreturn\u001b[39;00m \u001b[43m{\u001b[49m\n\u001b[0;32m    424\u001b[0m \u001b[43m    \u001b[49m\u001b[43mOutput\u001b[49m\u001b[38;5;241;43m.\u001b[39;49m\u001b[43mBYTES\u001b[49m\u001b[43m:\u001b[49m\u001b[43m \u001b[49m\u001b[38;5;28;43;01mlambda\u001b[39;49;00m\u001b[43m:\u001b[49m\u001b[43m \u001b[49m\u001b[43mrun_and_get_output\u001b[49m\u001b[43m(\u001b[49m\u001b[38;5;241;43m*\u001b[39;49m\u001b[43m(\u001b[49m\u001b[43margs\u001b[49m\u001b[43m \u001b[49m\u001b[38;5;241;43m+\u001b[39;49m\u001b[43m \u001b[49m\u001b[43m[\u001b[49m\u001b[38;5;28;43;01mTrue\u001b[39;49;00m\u001b[43m]\u001b[49m\u001b[43m)\u001b[49m\u001b[43m)\u001b[49m\u001b[43m,\u001b[49m\n\u001b[0;32m    425\u001b[0m \u001b[43m    \u001b[49m\u001b[43mOutput\u001b[49m\u001b[38;5;241;43m.\u001b[39;49m\u001b[43mDICT\u001b[49m\u001b[43m:\u001b[49m\u001b[43m \u001b[49m\u001b[38;5;28;43;01mlambda\u001b[39;49;00m\u001b[43m:\u001b[49m\u001b[43m \u001b[49m\u001b[43m{\u001b[49m\u001b[38;5;124;43m'\u001b[39;49m\u001b[38;5;124;43mtext\u001b[39;49m\u001b[38;5;124;43m'\u001b[39;49m\u001b[43m:\u001b[49m\u001b[43m \u001b[49m\u001b[43mrun_and_get_output\u001b[49m\u001b[43m(\u001b[49m\u001b[38;5;241;43m*\u001b[39;49m\u001b[43margs\u001b[49m\u001b[43m)\u001b[49m\u001b[43m}\u001b[49m\u001b[43m,\u001b[49m\n\u001b[0;32m    426\u001b[0m \u001b[43m    \u001b[49m\u001b[43mOutput\u001b[49m\u001b[38;5;241;43m.\u001b[39;49m\u001b[43mSTRING\u001b[49m\u001b[43m:\u001b[49m\u001b[43m \u001b[49m\u001b[38;5;28;43;01mlambda\u001b[39;49;00m\u001b[43m:\u001b[49m\u001b[43m \u001b[49m\u001b[43mrun_and_get_output\u001b[49m\u001b[43m(\u001b[49m\u001b[38;5;241;43m*\u001b[39;49m\u001b[43margs\u001b[49m\u001b[43m)\u001b[49m\u001b[43m,\u001b[49m\n\u001b[0;32m    427\u001b[0m \u001b[43m\u001b[49m\u001b[43m}\u001b[49m\u001b[43m[\u001b[49m\u001b[43moutput_type\u001b[49m\u001b[43m]\u001b[49m\u001b[43m(\u001b[49m\u001b[43m)\u001b[49m\n",
      "File \u001b[1;32md:\\Educational\\Sarvam_AI\\Projects\\SEBI_Ankit\\SEBI_Data_Crawler\\sebi_env\\lib\\site-packages\\pytesseract\\pytesseract.py:426\u001b[0m, in \u001b[0;36mimage_to_string.<locals>.<lambda>\u001b[1;34m()\u001b[0m\n\u001b[0;32m    418\u001b[0m \u001b[38;5;250m\u001b[39m\u001b[38;5;124;03m\"\"\"\u001b[39;00m\n\u001b[0;32m    419\u001b[0m \u001b[38;5;124;03mReturns the result of a Tesseract OCR run on the provided image to string\u001b[39;00m\n\u001b[0;32m    420\u001b[0m \u001b[38;5;124;03m\"\"\"\u001b[39;00m\n\u001b[0;32m    421\u001b[0m args \u001b[38;5;241m=\u001b[39m [image, \u001b[38;5;124m'\u001b[39m\u001b[38;5;124mtxt\u001b[39m\u001b[38;5;124m'\u001b[39m, lang, config, nice, timeout]\n\u001b[0;32m    423\u001b[0m \u001b[38;5;28;01mreturn\u001b[39;00m {\n\u001b[0;32m    424\u001b[0m     Output\u001b[38;5;241m.\u001b[39mBYTES: \u001b[38;5;28;01mlambda\u001b[39;00m: run_and_get_output(\u001b[38;5;241m*\u001b[39m(args \u001b[38;5;241m+\u001b[39m [\u001b[38;5;28;01mTrue\u001b[39;00m])),\n\u001b[0;32m    425\u001b[0m     Output\u001b[38;5;241m.\u001b[39mDICT: \u001b[38;5;28;01mlambda\u001b[39;00m: {\u001b[38;5;124m'\u001b[39m\u001b[38;5;124mtext\u001b[39m\u001b[38;5;124m'\u001b[39m: run_and_get_output(\u001b[38;5;241m*\u001b[39margs)},\n\u001b[1;32m--> 426\u001b[0m     Output\u001b[38;5;241m.\u001b[39mSTRING: \u001b[38;5;28;01mlambda\u001b[39;00m: \u001b[43mrun_and_get_output\u001b[49m\u001b[43m(\u001b[49m\u001b[38;5;241;43m*\u001b[39;49m\u001b[43margs\u001b[49m\u001b[43m)\u001b[49m,\n\u001b[0;32m    427\u001b[0m }[output_type]()\n",
      "File \u001b[1;32md:\\Educational\\Sarvam_AI\\Projects\\SEBI_Ankit\\SEBI_Data_Crawler\\sebi_env\\lib\\site-packages\\pytesseract\\pytesseract.py:288\u001b[0m, in \u001b[0;36mrun_and_get_output\u001b[1;34m(image, extension, lang, config, nice, timeout, return_bytes)\u001b[0m\n\u001b[0;32m    277\u001b[0m \u001b[38;5;28;01mwith\u001b[39;00m save(image) \u001b[38;5;28;01mas\u001b[39;00m (temp_name, input_filename):\n\u001b[0;32m    278\u001b[0m     kwargs \u001b[38;5;241m=\u001b[39m {\n\u001b[0;32m    279\u001b[0m         \u001b[38;5;124m'\u001b[39m\u001b[38;5;124minput_filename\u001b[39m\u001b[38;5;124m'\u001b[39m: input_filename,\n\u001b[0;32m    280\u001b[0m         \u001b[38;5;124m'\u001b[39m\u001b[38;5;124moutput_filename_base\u001b[39m\u001b[38;5;124m'\u001b[39m: temp_name,\n\u001b[1;32m   (...)\u001b[0m\n\u001b[0;32m    285\u001b[0m         \u001b[38;5;124m'\u001b[39m\u001b[38;5;124mtimeout\u001b[39m\u001b[38;5;124m'\u001b[39m: timeout,\n\u001b[0;32m    286\u001b[0m     }\n\u001b[1;32m--> 288\u001b[0m     run_tesseract(\u001b[38;5;241m*\u001b[39m\u001b[38;5;241m*\u001b[39mkwargs)\n\u001b[0;32m    289\u001b[0m     filename \u001b[38;5;241m=\u001b[39m \u001b[38;5;124mf\u001b[39m\u001b[38;5;124m\"\u001b[39m\u001b[38;5;132;01m{\u001b[39;00mkwargs[\u001b[38;5;124m'\u001b[39m\u001b[38;5;124moutput_filename_base\u001b[39m\u001b[38;5;124m'\u001b[39m]\u001b[38;5;132;01m}\u001b[39;00m\u001b[38;5;132;01m{\u001b[39;00mextsep\u001b[38;5;132;01m}\u001b[39;00m\u001b[38;5;132;01m{\u001b[39;00mextension\u001b[38;5;132;01m}\u001b[39;00m\u001b[38;5;124m\"\u001b[39m\n\u001b[0;32m    290\u001b[0m     \u001b[38;5;28;01mwith\u001b[39;00m \u001b[38;5;28mopen\u001b[39m(filename, \u001b[38;5;124m'\u001b[39m\u001b[38;5;124mrb\u001b[39m\u001b[38;5;124m'\u001b[39m) \u001b[38;5;28;01mas\u001b[39;00m output_file:\n",
      "File \u001b[1;32md:\\Educational\\Sarvam_AI\\Projects\\SEBI_Ankit\\SEBI_Data_Crawler\\sebi_env\\lib\\site-packages\\pytesseract\\pytesseract.py:264\u001b[0m, in \u001b[0;36mrun_tesseract\u001b[1;34m(input_filename, output_filename_base, extension, lang, config, nice, timeout)\u001b[0m\n\u001b[0;32m    262\u001b[0m \u001b[38;5;28;01mwith\u001b[39;00m timeout_manager(proc, timeout) \u001b[38;5;28;01mas\u001b[39;00m error_string:\n\u001b[0;32m    263\u001b[0m     \u001b[38;5;28;01mif\u001b[39;00m proc\u001b[38;5;241m.\u001b[39mreturncode:\n\u001b[1;32m--> 264\u001b[0m         \u001b[38;5;28;01mraise\u001b[39;00m TesseractError(proc\u001b[38;5;241m.\u001b[39mreturncode, get_errors(error_string))\n",
      "\u001b[1;31mTesseractError\u001b[0m: (1, 'Error in pixReadStream: Pdf reading is not supported Error in pixRead: pix not read Error during processing.')"
     ]
    }
   ],
   "source": [
    "extracted_text = extract_text_from_image(\"\")\n",
    "print(extracted_text)"
   ]
  }
 ],
 "metadata": {
  "kernelspec": {
   "display_name": "Python 3",
   "language": "python",
   "name": "python3"
  },
  "language_info": {
   "codemirror_mode": {
    "name": "ipython",
    "version": 3
   },
   "file_extension": ".py",
   "mimetype": "text/x-python",
   "name": "python",
   "nbconvert_exporter": "python",
   "pygments_lexer": "ipython3",
   "version": "3.10.0"
  }
 },
 "nbformat": 4,
 "nbformat_minor": 2
}
